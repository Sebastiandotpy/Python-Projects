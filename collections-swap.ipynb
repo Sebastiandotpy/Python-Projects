{
 "cells": [
  {
   "cell_type": "code",
   "execution_count": 9,
   "metadata": {},
   "outputs": [],
   "source": [
    "from typing import List  # 1. Import the List type hint from the typing module.\n",
    "\n",
    "def swap(lst: List[int], i: int, j: int) -> List[int]:  # 2. Define the swap function that takes a list and two indices as arguments and returns a list.\n",
    "    \"\"\"\n",
    "    Swaps the values at the given indices in the list and returns the modified list.\n",
    "    \"\"\"\n",
    "    if i < 0 or i >= len(lst) or j < 0 or j >= len(lst) or type(lst[i]) != type(lst[j]):  # 3. Check if the indices are valid and the values at the indices have the same type.\n",
    "        raise ValueError(\"Invalid input\")  # 4. Raise a ValueError if the input is invalid.\n",
    "    \n",
    "    lst[i], lst[j] = lst[j], lst[i]  # 5. Swap the values at the given indices using multiple assignment.\n",
    "    return lst  # 6. Return the modified list.\n",
    "\n",
    "swap_list = [23, 65, 19, 90]  # 7. Define a list to be used as input for the swap function.\n",
    "result = swap(swap_list, 1, 3)  # 8. Call the swap function with the list and the indices 1 and 3.\n",
    "print(result)  # 9. Print the modified list to the terminal."
   ]
  },
  {
   "cell_type": "code",
   "execution_count": null,
   "metadata": {},
   "outputs": [],
   "source": [
    "def digit_filter(lst):  # 1. Define the digit_filter function that takes a list of strings as an argument.\n",
    "    \"\"\"\n",
    "    Filters the list to only include strings that don't contain a number.\n",
    "    \"\"\"\n",
    "    return [s for s in lst if not any(c.isdigit() for c in s)]  # 2. Use a list comprehension to filter the list to only include strings that don't contain a number.\n",
    "\n",
    "l33t = ['Digital Car33r Institute', 'DCI', 'Digital', 'Career', 'Inst1tut3']  # 3. Define a list of strings to be used as input for the digit_filter function.\n",
    "result = digit_filter(l33t)  # 4. Call the digit_filter function with the list of strings.\n",
    "print(result)  # 5. Print the filtered list to the terminal."
   ]
  },
  {
   "cell_type": "code",
   "execution_count": null,
   "metadata": {},
   "outputs": [],
   "source": [
    "numbers = [1, 2, 3, 4, 5, 6, 7, 8, 9, 10]  # 1. Define a list of numbers to be used as input.\n",
    "even_numbers = [n for n in numbers if n % 2 == 0]  # 2. Use a list comprehension to create a new list that only includes the even numbers from the input list.\n",
    "print(even_numbers)  # 3. Print the new list of even numbers to the terminal."
   ]
  },
  {
   "cell_type": "code",
   "execution_count": null,
   "metadata": {},
   "outputs": [],
   "source": [
    "numbers = [1, 2, 3, 4, 5]  # 1. Define a list of numbers to be used as input.\n",
    "squares = [n**2 for n in numbers]  # 2. Use a list comprehension to create a new list that contains the squares of each number in the input list.\n",
    "print(squares)  # 3. Print the new list of squares to the terminal."
   ]
  },
  {
   "cell_type": "code",
   "execution_count": null,
   "metadata": {},
   "outputs": [],
   "source": [
    "numbers = [1, 2, 3, 4, 5]  # 1. Define a list of numbers to be used as input.\n",
    "factors = [(n, [i for i in range(1, n+1) if n % i == 0]) for n in numbers]  # 2. Use a list comprehension to create a new list of tuples where each tuple contains a number and its factors.\n",
    "print(factors)  # 3. Print the new list of tuples to the terminal."
   ]
  }
 ],
 "metadata": {
  "kernelspec": {
   "display_name": "Python 3",
   "language": "python",
   "name": "python3"
  },
  "language_info": {
   "codemirror_mode": {
    "name": "ipython",
    "version": 3
   },
   "file_extension": ".py",
   "mimetype": "text/x-python",
   "name": "python",
   "nbconvert_exporter": "python",
   "pygments_lexer": "ipython3",
   "version": "3.11.3"
  },
  "orig_nbformat": 4
 },
 "nbformat": 4,
 "nbformat_minor": 2
}
