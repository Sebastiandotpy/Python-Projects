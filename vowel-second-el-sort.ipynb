{
 "cells": [
  {
   "cell_type": "code",
   "execution_count": null,
   "metadata": {},
   "outputs": [],
   "source": [
    "def count_vowels(word):\n",
    "    \"\"\" Count the number of vowels in a word.\"\"\"\n",
    "    vowels = \"aeiouAEIOU\"\n",
    "    count = 0\n",
    "    for char in word:\n",
    "        if char in vowels:\n",
    "            count += 1\n",
    "\n",
    "    return count\n",
    "\n",
    "\n",
    "def sort_by_vowels(sport_genres):\n",
    "    \"\"\"Sort a list of sport genres based on the number of vowels they contain.\"\"\"\n",
    "    return sorted(sport_genres, key=count_vowels)\n",
    "\n",
    "\n",
    "# Example usage\n",
    "sport_genres = ['basketball', 'football', 'volleyball', 'tennis', 'swimming']\n",
    "sorted_sport_genres = sort_by_vowels(sport_genres)\n",
    "print(sorted_sport_genres)"
   ]
  },
  {
   "cell_type": "code",
   "execution_count": null,
   "metadata": {},
   "outputs": [],
   "source": [
    "def sort_tuples_by_second_element(tuples_list):\n",
    "    # Define a custom function that returns the second element of a tuple\n",
    "    def get_second_element(tuple_item):\n",
    "        return tuple_item[1]\n",
    "    \n",
    "    # Sort the list of tuples by the second element using the custom function\n",
    "    tuples_list.sort(key=get_second_element)\n",
    "\n",
    "    return tuples_list\n",
    "\n",
    "# Prompt the user to enter the number of tuples and the tuples themselves\n",
    "num_tuples = int(input(\"Enter the number of tuples \"))\n",
    "tuples_list = []\n",
    "for tuple_index in range(num_tuples):\n",
    "    # Prompt the user to enter the tuple as a comma-seperated string\n",
    "    tuple_input = input(f\"Enter tuple {tuple_index+1}: \")\n",
    "    # split the string into its elements and convert to a tuple\n",
    "    tuple_elements = tuple(tuple_input.split(\",\"))\n",
    "    # Add the tuple to the list of tuples\n",
    "    tuples_list.append(tuple_elements)\n",
    "\n",
    "\n",
    "# Sort the list of tuples by the second element using the custom function\n",
    "sorted_tuples_list = sort_tuples_by_second_element(tuples_list)\n",
    "\n",
    "\n",
    "print(\"Sorted list of tuples:\", sorted_tuples_list)"
   ]
  },
  {
   "cell_type": "code",
   "execution_count": 25,
   "metadata": {},
   "outputs": [
    {
     "name": "stdout",
     "output_type": "stream",
     "text": [
      "Sorted original list:  [(6, 1), (4, 3), (2, 5), (1, 7), (3, 8)]\n"
     ]
    }
   ],
   "source": [
    "# Define the original list of tuples\n",
    "tuple_list = [(2, 5), (1, 7), (4, 3), (6, 1), (3, 8)]\n",
    "\n",
    "# Prompt the user to enter a list of tuples or \"original list\"\n",
    "input_str = input(\"Enter a list of tuples (or type 'original list'): \")\n",
    "\n",
    "# If the user entered \"original list\", sort the original list and print it\n",
    "if input_str.lower() == \"original list\":\n",
    "    # Sort the original list by the second element of each tuple using a lambda function\n",
    "    sorted_tuple_list = sorted(tuple_list, key=lambda x: x[1])\n",
    "    # Print the sorted original list\n",
    "    print(\"Sorted original list: \", sorted_tuple_list)\n",
    "else:\n",
    "    # Try to evaluate the input string as a list of tuples\n",
    "    try:\n",
    "        # Evaluate the input string as a list of tuples\n",
    "        new_tuple_list = eval(input_str)\n",
    "        # Check that each element of the input list is a tuple with at least two elements\n",
    "        if all(isinstance(two_el, tuple) and len(two_el) >= 2 for two_el in new_tuple_list):\n",
    "            # Sort the new list of tuples by the second element of each tuple using a lambda function\n",
    "            sorted_tuple_list = sorted(new_tuple_list, key=lambda x: x[1])\n",
    "            # Print the sorted list of tuples\n",
    "            print(\"Sorted list of tuples: \", sorted_tuple_list)\n",
    "        else:\n",
    "            # If any element of the input list is not a tuple or has less than two elements, raise an exception\n",
    "            raise ValueError(\"Input list must contain tuples with at least two elements\")\n",
    "    except:\n",
    "        # If the input string could not be evaluated as a list of tuples, print an error message and example input format\n",
    "        print(\"Error: Invalid input. Input must be a list of tuples in the format [(a1, b1), (a2, b2), ...]\")\n",
    "\n",
    "\n"
   ]
  },
  {
   "cell_type": "code",
   "execution_count": null,
   "metadata": {},
   "outputs": [],
   "source": []
  }
 ],
 "metadata": {
  "kernelspec": {
   "display_name": "Python 3",
   "language": "python",
   "name": "python3"
  },
  "language_info": {
   "codemirror_mode": {
    "name": "ipython",
    "version": 3
   },
   "file_extension": ".py",
   "mimetype": "text/x-python",
   "name": "python",
   "nbconvert_exporter": "python",
   "pygments_lexer": "ipython3",
   "version": "3.11.3"
  },
  "orig_nbformat": 4
 },
 "nbformat": 4,
 "nbformat_minor": 2
}
